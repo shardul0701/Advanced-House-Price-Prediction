{
 "cells": [
  {
   "cell_type": "code",
   "execution_count": 2,
   "id": "992795a2",
   "metadata": {},
   "outputs": [],
   "source": [
    "# missing values"
   ]
  },
  {
   "cell_type": "code",
   "execution_count": 4,
   "id": "2a3fb6e0",
   "metadata": {},
   "outputs": [],
   "source": [
    "filled_with_na=[feature for feature in dataset.columns if dataset[feature].isnull().sum()>1]"
   ]
  },
  {
   "cell_type": "code",
   "execution_count": null,
   "id": "1302e905",
   "metadata": {},
   "outputs": [],
   "source": [
    "for features in filled_with_na:\n",
    "    print(features,np.round(dataset[features].isnull.mean(),4)"
   ]
  },
  {
   "cell_type": "code",
   "execution_count": null,
   "id": "34f2eecf",
   "metadata": {},
   "outputs": [],
   "source": [
    "# relation btw missing values and sales price"
   ]
  },
  {
   "cell_type": "code",
   "execution_count": null,
   "id": "ef460f06",
   "metadata": {},
   "outputs": [],
   "source": [
    "for features in filled_with_na:\n",
    "    data=dataset.copy()\n",
    "    \n",
    "    data[features] =np.where(data[features].isnull(),1,0)\n",
    "    \n",
    "    data.groupby(features)['salesprice'].meadian().plot.bar()"
   ]
  },
  {
   "cell_type": "code",
   "execution_count": null,
   "id": "138d24b3",
   "metadata": {},
   "outputs": [],
   "source": [
    "# numerical features"
   ]
  },
  {
   "cell_type": "code",
   "execution_count": null,
   "id": "76094092",
   "metadata": {},
   "outputs": [],
   "source": [
    "numerical_features=[features for features in dataset.columns if dataset[features].dtype !='O']\n",
    "len(numerical_features)"
   ]
  },
  {
   "cell_type": "code",
   "execution_count": null,
   "id": "92dcb430",
   "metadata": {},
   "outputs": [],
   "source": [
    "# among numerical features if we wants to diffrentiate btw features by any word by any intials we can do like this"
   ]
  },
  {
   "cell_type": "code",
   "execution_count": null,
   "id": "adfad3aa",
   "metadata": {},
   "outputs": [],
   "source": [
    "year_present_in_it=[features for features in dataset.columns if 'yr' in features or 'year' in features]\n",
    "year_present_in_it"
   ]
  },
  {
   "cell_type": "code",
   "execution_count": null,
   "id": "ba949afd",
   "metadata": {},
   "outputs": [],
   "source": [
    "# if we want to explore one of the feature among that year\n",
    "for feature in year_present_in_it:\n",
    "    print(feature,dataset[feature].unique())"
   ]
  },
  {
   "cell_type": "code",
   "execution_count": null,
   "id": "29fa6179",
   "metadata": {},
   "outputs": [],
   "source": [
    "# if we want to compare among the anytable from the year_present_in_it\n",
    "dataset.groupby('YrSold')['salesprice'].median().plot()"
   ]
  },
  {
   "cell_type": "code",
   "execution_count": null,
   "id": "a4fb0750",
   "metadata": {},
   "outputs": [],
   "source": [
    "# among numerical variables we will difrenciate btw descrete and continous"
   ]
  },
  {
   "cell_type": "code",
   "execution_count": null,
   "id": "a8efc7cd",
   "metadata": {},
   "outputs": [],
   "source": [
    "descrete=[feature for feature in numerical_feature if len(dataset[feature].unique())<25 and feature not in year_present_in_it]"
   ]
  },
  {
   "cell_type": "code",
   "execution_count": null,
   "id": "ac8db597",
   "metadata": {},
   "outputs": [],
   "source": [
    "# to find relationship btw descrete features and slaes price\n",
    "for features in descrete:\n",
    "    data=dataset.copy()\n",
    "    data.groupby(features)['salesprice'].median().bar.plot()"
   ]
  },
  {
   "cell_type": "code",
   "execution_count": null,
   "id": "6e693e87",
   "metadata": {},
   "outputs": [],
   "source": [
    "# continous features\n",
    "countinous=[features for features in numerical_features if features not in descrete + year_present+['Id']]"
   ]
  },
  {
   "cell_type": "code",
   "execution_count": null,
   "id": "0061573e",
   "metadata": {},
   "outputs": [],
   "source": [
    "# to find distribution of data\n",
    "for features in continous:\n",
    "    data=dataset.copy()\n",
    "    data[features].hist(bins=25)"
   ]
  },
  {
   "cell_type": "code",
   "execution_count": null,
   "id": "83fe6716",
   "metadata": {},
   "outputs": [],
   "source": [
    "# for transforming continous features into logarithmic transformation\n",
    "for features in continous:\n",
    "    data=dataset.copy()\n",
    "    if 0 in data[features].unique():\n",
    "        pass\n",
    "    else:\n",
    "        data[features]=np.log(data[features])\n",
    "        data['salesprice']=np.log(data['salesprice'])\n",
    "        plt.scatter(data[features],data['sleaprice'])\n",
    "        "
   ]
  },
  {
   "cell_type": "code",
   "execution_count": null,
   "id": "2f0407b2",
   "metadata": {},
   "outputs": [],
   "source": [
    "# outliers in contionous features\n",
    "for features in continous:\n",
    "    data=dataset.copy()\n",
    "    if 0 in data[features].unique():\n",
    "        pass\n",
    "    else:\n",
    "        data[features]=np.log(data[features])\n",
    "        data.boxplot(columns=features)\n",
    "        \n"
   ]
  },
  {
   "cell_type": "code",
   "execution_count": null,
   "id": "7d7b2e7c",
   "metadata": {},
   "outputs": [],
   "source": [
    "# categorical features\n",
    "categorical=[features for features in dataset.columns if dataset[features].dtype=='O']"
   ]
  },
  {
   "cell_type": "code",
   "execution_count": null,
   "id": "436f9f0c",
   "metadata": {},
   "outputs": [],
   "source": [
    "## Find out the relationship between categorical variable and SalesPrice\n",
    "for features in categorical:\n",
    "    data=dataset.copy()\n",
    "    if 0 in data[features].unique():\n",
    "        pass\n",
    "    else:\n",
    "        data.groupby(features)['salePrice'].median().bar.plot()\n",
    "        plt.title(features)"
   ]
  },
  {
   "cell_type": "code",
   "execution_count": null,
   "id": "2aafd7d4",
   "metadata": {},
   "outputs": [],
   "source": [
    "# feature engineerig"
   ]
  },
  {
   "cell_type": "code",
   "execution_count": null,
   "id": "ad358f1d",
   "metadata": {},
   "outputs": [],
   "source": []
  },
  {
   "cell_type": "code",
   "execution_count": null,
   "id": "33ff8fc2",
   "metadata": {},
   "outputs": [],
   "source": []
  },
  {
   "cell_type": "code",
   "execution_count": null,
   "id": "c276e76f",
   "metadata": {},
   "outputs": [],
   "source": []
  }
 ],
 "metadata": {
  "kernelspec": {
   "display_name": "Python 3",
   "language": "python",
   "name": "python3"
  },
  "language_info": {
   "codemirror_mode": {
    "name": "ipython",
    "version": 3
   },
   "file_extension": ".py",
   "mimetype": "text/x-python",
   "name": "python",
   "nbconvert_exporter": "python",
   "pygments_lexer": "ipython3",
   "version": "3.9.1"
  }
 },
 "nbformat": 4,
 "nbformat_minor": 5
}
